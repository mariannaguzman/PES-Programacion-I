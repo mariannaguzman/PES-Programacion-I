{
 "cells": [
  {
   "cell_type": "markdown",
   "metadata": {},
   "source": [
    "## Clase `Dice`\n",
    "\n",
    "Implementar una clase denominada `Dice`, que funcione como un conjunto de $n$ dados. La clase debe recibir como argumento el número de dados a tirar. Además, la clase debe implementar:\n",
    "\n",
    "- Un método de `roll()` que simula la tirada de los $n$ dados y guarda internamente una lista con los valores resultantes. No devuelve nada.\n",
    "    \n",
    "    - Si no se ha llamado a `roll()`, la lista interna debe ser vacía.\n",
    "\n",
    "- Un método `getLastRoll()` que devuelve la lista con los valores de la última tirada.\n",
    "\n",
    "- Un método `getRollSum()` que devuelve la suma de los valores de la última tirada.\n",
    "\n",
    "    - Si no se ha llamado a `roll()`, debe devolver cero."
   ]
  },
  {
   "cell_type": "code",
   "execution_count": 7,
   "metadata": {},
   "outputs": [
    {
     "data": {
      "text/plain": [
       "4"
      ]
     },
     "execution_count": 7,
     "metadata": {},
     "output_type": "execute_result"
    }
   ],
   "source": [
    "# Ayuda, utilizar la siguiente función del módulo random\n",
    "import random\n",
    "random.randint(1,6)"
   ]
  },
  {
   "cell_type": "code",
   "execution_count": 133,
   "metadata": {},
   "outputs": [],
   "source": [
    "class Dice(object):\n",
    "    def __init__(self, n):\n",
    "        self.n=n #El número de dados\n",
    "        self.lista =[] #Creo una lista vacía\n",
    "    def roll(self):\n",
    "        for i in range(self.n): #Para cada elemento en el rango del número de dados\n",
    "            r = random.randint(1,6) #Me da un número al azar entre 1 y 6\n",
    "            agregarlist=self.lista.append(r) #Se agrega a self.lista\n",
    "    def getLastRoll(self):\n",
    "        return self.lista  #Me da la lista completa con el número que salió en cada dado      \n",
    "    \n",
    "    def getRollSum(self):\n",
    "        return sum(self.lista) #Me da la suma de los números de cada dado\n",
    "    \n",
    "    def __str__(self):\n",
    "        return \"Número de dados tirados: \" + str(self.n)"
   ]
  },
  {
   "cell_type": "code",
   "execution_count": 134,
   "metadata": {},
   "outputs": [
    {
     "data": {
      "text/plain": [
       "[]"
      ]
     },
     "execution_count": 134,
     "metadata": {},
     "output_type": "execute_result"
    }
   ],
   "source": [
    "a = Dice(2)\n",
    "a.getLastRoll()\n",
    "# Devuelve lista vacía"
   ]
  },
  {
   "cell_type": "code",
   "execution_count": 135,
   "metadata": {},
   "outputs": [
    {
     "data": {
      "text/plain": [
       "0"
      ]
     },
     "execution_count": 135,
     "metadata": {},
     "output_type": "execute_result"
    }
   ],
   "source": [
    "a.getRollSum()\n",
    "# Devuelve 0"
   ]
  },
  {
   "cell_type": "code",
   "execution_count": 145,
   "metadata": {},
   "outputs": [],
   "source": [
    "a = Dice(2)\n",
    "a.roll()"
   ]
  },
  {
   "cell_type": "code",
   "execution_count": 146,
   "metadata": {},
   "outputs": [
    {
     "name": "stdout",
     "output_type": "stream",
     "text": [
      "Número de dados tirados: 2\n"
     ]
    }
   ],
   "source": [
    "print(a)"
   ]
  },
  {
   "cell_type": "code",
   "execution_count": 147,
   "metadata": {},
   "outputs": [
    {
     "data": {
      "text/plain": [
       "[3, 6]"
      ]
     },
     "execution_count": 147,
     "metadata": {},
     "output_type": "execute_result"
    }
   ],
   "source": [
    "a.getLastRoll() #Devuelve lista con dos números"
   ]
  },
  {
   "cell_type": "code",
   "execution_count": 148,
   "metadata": {},
   "outputs": [
    {
     "data": {
      "text/plain": [
       "9"
      ]
     },
     "execution_count": 148,
     "metadata": {},
     "output_type": "execute_result"
    }
   ],
   "source": [
    "a.getRollSum() #Devuelve la suma de los números de la lista anterior"
   ]
  },
  {
   "cell_type": "markdown",
   "metadata": {},
   "source": [
    "## Herencia de la clase `Rectangle`"
   ]
  },
  {
   "cell_type": "code",
   "execution_count": 124,
   "metadata": {},
   "outputs": [],
   "source": [
    "class Rectangle(object):\n",
    "    def __init__(self, length, width):\n",
    "        self.length = length\n",
    "        self.width = width\n",
    "        \n",
    "    def area(self):\n",
    "        return self.width * self.length\n",
    "    \n",
    "    def perimeter(self):\n",
    "        return (2*self.length) + (2*self.width)\n",
    "    \n",
    "class Square(Rectangle):\n",
    "    '''\n",
    "        Redefinir el método constructor, sin redefinir las funciones de área\n",
    "        y perímetro, para que un objeto de tipo Square con:\n",
    "            .area() devuelva el área de un cuadrado de tamaño length y\n",
    "            .perimeter() devuelva el perímetro del cuadrado\n",
    "    '''\n",
    "    def __init__(self, length):\n",
    "        Rectangle.__init__(self, length, length) #Al método constructor original le cambio width por length\n",
    "        #Esto porque el cuadrado su length y width es el mismo.\n",
    "        \n",
    "class Cube(Square):\n",
    "    '''\n",
    "        Heredar de Square todos los métodos (incluido el constructor) y \n",
    "        agregar un método para obtener el volumen de un objeto de tipo Cube.\n",
    "    '''\n",
    "    def volume(self):\n",
    "        # Tu código acá\n",
    "        v = self.length**3 #Como un cubo está en 3 dimensiones, el volumen es el length elevado a la 3\n",
    "        return v"
   ]
  },
  {
   "cell_type": "code",
   "execution_count": 125,
   "metadata": {},
   "outputs": [
    {
     "data": {
      "text/plain": [
       "40"
      ]
     },
     "execution_count": 125,
     "metadata": {},
     "output_type": "execute_result"
    }
   ],
   "source": [
    "rect1=Rectangle(10,4)\n",
    "rect1.area()"
   ]
  },
  {
   "cell_type": "code",
   "execution_count": 126,
   "metadata": {},
   "outputs": [
    {
     "data": {
      "text/plain": [
       "28"
      ]
     },
     "execution_count": 126,
     "metadata": {},
     "output_type": "execute_result"
    }
   ],
   "source": [
    "rect1.perimeter()"
   ]
  },
  {
   "cell_type": "code",
   "execution_count": 127,
   "metadata": {},
   "outputs": [
    {
     "data": {
      "text/plain": [
       "100"
      ]
     },
     "execution_count": 127,
     "metadata": {},
     "output_type": "execute_result"
    }
   ],
   "source": [
    "square1=Square(10)\n",
    "square1.area()"
   ]
  },
  {
   "cell_type": "code",
   "execution_count": 128,
   "metadata": {},
   "outputs": [
    {
     "data": {
      "text/plain": [
       "40"
      ]
     },
     "execution_count": 128,
     "metadata": {},
     "output_type": "execute_result"
    }
   ],
   "source": [
    "square1.perimeter()"
   ]
  },
  {
   "cell_type": "code",
   "execution_count": 129,
   "metadata": {},
   "outputs": [
    {
     "data": {
      "text/plain": [
       "1000"
      ]
     },
     "execution_count": 129,
     "metadata": {},
     "output_type": "execute_result"
    }
   ],
   "source": [
    "cubo=Cube(10)\n",
    "cubo.volume()"
   ]
  },
  {
   "cell_type": "markdown",
   "metadata": {},
   "source": [
    "Nota: instancie algunos objetos y muestre que sus métodos funcionan correctamente."
   ]
  },
  {
   "cell_type": "markdown",
   "metadata": {},
   "source": [
    "## Programando nuestro propio *Blockchain*\n",
    "\n",
    "Crear una clase denominada `Block` que almacene un diccionario con transacciones. La clase `Block` debe implementar:\n",
    "\n",
    "- Atributo de transacciones, representado con un diccionario `transactions`. Las llaves pueden ser alfanuméricas y los valores del diccionario representan los débitos ($-$) o créditos ($+$) relativas a una transacción.\n",
    "\n",
    "- Atributos `previousBlock` y `nextBlock` que apuntan a objetos tipo `Block` para referir al anterior y siguiente \"bloque\" en la cadena.\n",
    "    - Estos deben ser `None` por defecto en el constructor.\n",
    "    - Se deben programar métodos *getter* y *setter* para acceder y modificar estos atributos.\n",
    "    \n",
    "- Un método `getBlockID()` para obtener el ID de un bloque específico utilizando **variables de clase**.\n",
    "\n",
    "- Un método `getTransactions()` para obtener **una copia** del diccionario de transacciones.\n",
    "\n",
    "- La asignación consiste en completar el método `getBalanceFromHere()`, que computa el balance de las cuentas desde el bloque actual hasta el final del *blockchain*."
   ]
  },
  {
   "cell_type": "code",
   "execution_count": 358,
   "metadata": {},
   "outputs": [],
   "source": [
    "class Block(object):\n",
    "    \n",
    "    blockCount = 0\n",
    "    \n",
    "    # Inicializa el bloque con el diccionario de transacciones \n",
    "    def __init__(self, transactions={}, previousBlock=None, nextBlock=None):\n",
    "        self.transactions = transactions\n",
    "        self.previousBlock = previousBlock\n",
    "        self.nextBlock = nextBlock \n",
    "        self.blockID = Block.blockCount\n",
    "        Block.blockCount += 1\n",
    "        \n",
    "    # Muestra el número de instancia y sus transacciones\n",
    "    def __str__(self):\n",
    "        return \"Block %d: \" % self.blockID + str(self.transactions)\n",
    "        \n",
    "    # Obtener el ID del bloque\n",
    "    def getBlockID(self):\n",
    "        return self.blockID\n",
    "    #Obtener la transacción\n",
    "    def getTransactions(self):\n",
    "        return self.transactions.copy()\n",
    "    \n",
    "    # Getters y setters para obtener bloque anterior y siguiente\n",
    "    def setPreviousBlock(self, block):\n",
    "        self.previousBlock = block\n",
    "    def getPreviousBlock(self):\n",
    "        return self.previousBlock\n",
    "    def setNextBlock(self, block):\n",
    "        self.nextBlock = block\n",
    "        block.setPreviousBlock(self)\n",
    "    def getNextBlock(self):\n",
    "        return self.nextBlock\n",
    "    \n",
    "    ''' Completar para computar la función de \n",
    "        balance a partir de este bloque. Devuelve un \n",
    "        diccionario con las llaves y su balance acumulado\n",
    "        a partir de este bloque (incluyendo las transacciones\n",
    "        de este bloque).\n",
    "    '''\n",
    "    def getBalanceFromHere(self): #Si llamo a B2.getBalance: debe devolver diccionario que es igual a transacciones\n",
    "        # de B2 en adelante\n",
    "        #Si lo llamo desde el inicio de la cadena debe evolver la suma de B0 a B2\n",
    "        dnuevo={} #Creo diccionario vacío\n",
    "        \n",
    "        if self.getNextBlock() == None: #Si el siguiente bloque de self es None, quiere decir que es el último block\n",
    "            return self.getTransactions() #Me retorna las transacciones de ese mismo block\n",
    "        \n",
    "        if self.getPreviousBlock() ==None:#Si el block anterior es None, quiere decir que es el primer block\n",
    "            self_tran = self.getTransactions() #Me da las transacciones de self\n",
    "            next_block = self.getNextBlock()#Me da el bloque siguiente de self\n",
    "            next_tran = next_block.getTransactions() #Me da las transacciones del bloque siguiente de self\n",
    "            next_block2=next_block.getNextBlock() #Me da el siguiente block del siguiente block de self.\n",
    "            next_tran2=next_block2.getTransactions() #Me da las transacciones del otro block\n",
    "            \n",
    "            dnuevo[\"A\"]=(self_tran[\"A\"]+next_tran[\"A\"]+next_tran2[\"A\"]) #A mi diccionario vacío le agrego la suma de A\n",
    "            dnuevo[\"B\"]=(self_tran[\"B\"]+next_tran[\"B\"]+next_tran2[\"B\"])#Agrego la suma de B \n",
    "            dnuevo[\"C\"]=(self_tran[\"C\"]+next_tran[\"C\"]+next_tran2[\"C\"])#Agrego la suma de C\n",
    "            return dnuevo #Me devuelve el diccionario nuevo\n",
    "        \n",
    "        else: #En otro caso\n",
    "\n",
    "            self_tran = self.getTransactions() #Obtengo las transacciones de self\n",
    "            next_block = self.getNextBlock() #Obtengo el siguiente block\n",
    "            next_tran = next_block.getTransactions() #Obtengo las transacciones del siguiente block\n",
    "            \n",
    "            dnuevo[\"A\"]=(self_tran[\"A\"]+next_tran[\"A\"]) #Sumo las A\n",
    "            dnuevo[\"B\"]=(self_tran[\"B\"]+next_tran[\"B\"]) #Sumo las B\n",
    "            dnuevo[\"C\"]=(self_tran[\"C\"]+next_tran[\"C\"])   #Sumo las C\n",
    "            return dnuevo    \n",
    "            \n",
    "        \n",
    "        "
   ]
  },
  {
   "cell_type": "code",
   "execution_count": 359,
   "metadata": {},
   "outputs": [
    {
     "name": "stdout",
     "output_type": "stream",
     "text": [
      "Block 0: {'A': 50, 'B': -10, 'C': 5}\n",
      "Block 1: {'A': -10, 'B': 0, 'C': 10}\n",
      "Block 2: {'A': 0, 'B': 10, 'C': 5}\n"
     ]
    }
   ],
   "source": [
    "# Creamos algunos bloques con transacciones\n",
    "B0 = Block({'A': 50, 'B': -10, 'C': 5})\n",
    "B1 = Block({'A':-10, 'B':0,'C':+10})\n",
    "B2 = Block({'A':0,'B':+10, 'C':+5})\n",
    "print(B0, B1, B2, sep='\\n')"
   ]
  },
  {
   "cell_type": "code",
   "execution_count": 360,
   "metadata": {},
   "outputs": [],
   "source": [
    "# Configuramos la cadena de bloques\n",
    "B0.setNextBlock(B1)\n",
    "B1.setNextBlock(B2)"
   ]
  },
  {
   "cell_type": "code",
   "execution_count": 361,
   "metadata": {},
   "outputs": [
    {
     "name": "stdout",
     "output_type": "stream",
     "text": [
      "Block 1: {'A': -10, 'B': 0, 'C': 10}\n",
      "Block 2: {'A': 0, 'B': 10, 'C': 5}\n"
     ]
    }
   ],
   "source": [
    "print(B0.getNextBlock())\n",
    "print(B1.getNextBlock())"
   ]
  },
  {
   "cell_type": "code",
   "execution_count": 362,
   "metadata": {},
   "outputs": [
    {
     "name": "stdout",
     "output_type": "stream",
     "text": [
      "Block 0: {'A': 50, 'B': -10, 'C': 5}\n",
      "Block 1: {'A': -10, 'B': 0, 'C': 10}\n"
     ]
    }
   ],
   "source": [
    "print(B1.getPreviousBlock())\n",
    "print(B2.getPreviousBlock())"
   ]
  },
  {
   "cell_type": "code",
   "execution_count": 363,
   "metadata": {},
   "outputs": [
    {
     "name": "stdout",
     "output_type": "stream",
     "text": [
      "None\n"
     ]
    }
   ],
   "source": [
    "print(B0.getPreviousBlock())\n",
    "# Devuelve None"
   ]
  },
  {
   "cell_type": "code",
   "execution_count": 364,
   "metadata": {},
   "outputs": [
    {
     "name": "stdout",
     "output_type": "stream",
     "text": [
      "None\n"
     ]
    }
   ],
   "source": [
    "print(B2.getNextBlock())\n",
    "# Devuelve None"
   ]
  },
  {
   "cell_type": "code",
   "execution_count": 365,
   "metadata": {},
   "outputs": [
    {
     "data": {
      "text/plain": [
       "{'A': -10, 'B': 10, 'C': 15}"
      ]
     },
     "execution_count": 365,
     "metadata": {},
     "output_type": "execute_result"
    }
   ],
   "source": [
    "B1.getBalanceFromHere()\n",
    "# Debe devolver {'A': -10, 'C': 15, 'B': 10}"
   ]
  },
  {
   "cell_type": "code",
   "execution_count": 366,
   "metadata": {},
   "outputs": [
    {
     "data": {
      "text/plain": [
       "{'A': 40, 'B': 0, 'C': 20}"
      ]
     },
     "execution_count": 366,
     "metadata": {},
     "output_type": "execute_result"
    }
   ],
   "source": [
    "B0.getBalanceFromHere()\n",
    "# Debe devolver {'A': 40, 'B': 0, 'C': 20}"
   ]
  },
  {
   "cell_type": "code",
   "execution_count": 347,
   "metadata": {},
   "outputs": [
    {
     "data": {
      "text/plain": [
       "{'A': -10, 'B': 10, 'C': 15}"
      ]
     },
     "execution_count": 347,
     "metadata": {},
     "output_type": "execute_result"
    }
   ],
   "source": [
    "B1.getBalanceFromHere()\n",
    "# Debe devolver {'A': -10, 'C': 15, 'B': 10}"
   ]
  }
 ],
 "metadata": {
  "kernelspec": {
   "display_name": "Python 3",
   "language": "python",
   "name": "python3"
  },
  "language_info": {
   "codemirror_mode": {
    "name": "ipython",
    "version": 3
   },
   "file_extension": ".py",
   "mimetype": "text/x-python",
   "name": "python",
   "nbconvert_exporter": "python",
   "pygments_lexer": "ipython3",
   "version": "3.7.4"
  }
 },
 "nbformat": 4,
 "nbformat_minor": 2
}
