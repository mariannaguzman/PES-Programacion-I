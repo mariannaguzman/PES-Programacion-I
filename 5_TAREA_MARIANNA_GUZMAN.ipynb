{
 "cells": [
  {
   "cell_type": "markdown",
   "metadata": {},
   "source": [
    "# Tarea #6\n",
    "**Programacion I**"
   ]
  },
  {
   "cell_type": "markdown",
   "metadata": {},
   "source": [
    "## Ejercicio 1\n",
    "\n",
    "Ejecute el siguiente programa y explique su procedimiento y el porqué del resultado. "
   ]
  },
  {
   "cell_type": "code",
   "execution_count": 1,
   "metadata": {},
   "outputs": [
    {
     "ename": "RecursionError",
     "evalue": "maximum recursion depth exceeded",
     "output_type": "error",
     "traceback": [
      "\u001b[1;31m---------------------------------------------------------------------------\u001b[0m",
      "\u001b[1;31mRecursionError\u001b[0m                            Traceback (most recent call last)",
      "\u001b[1;32m<ipython-input-1-00d266b39dc6>\u001b[0m in \u001b[0;36m<module>\u001b[1;34m\u001b[0m\n\u001b[0;32m      2\u001b[0m     \u001b[0mf\u001b[0m\u001b[1;33m(\u001b[0m\u001b[0mf\u001b[0m\u001b[1;33m)\u001b[0m\u001b[1;33m\u001b[0m\u001b[1;33m\u001b[0m\u001b[0m\n\u001b[0;32m      3\u001b[0m \u001b[1;33m\u001b[0m\u001b[0m\n\u001b[1;32m----> 4\u001b[1;33m \u001b[0mRecusion\u001b[0m\u001b[1;33m(\u001b[0m\u001b[0mRecusion\u001b[0m\u001b[1;33m)\u001b[0m\u001b[1;33m\u001b[0m\u001b[1;33m\u001b[0m\u001b[0m\n\u001b[0m",
      "\u001b[1;32m<ipython-input-1-00d266b39dc6>\u001b[0m in \u001b[0;36mRecusion\u001b[1;34m(f)\u001b[0m\n\u001b[0;32m      1\u001b[0m \u001b[1;32mdef\u001b[0m \u001b[0mRecusion\u001b[0m\u001b[1;33m(\u001b[0m\u001b[0mf\u001b[0m\u001b[1;33m)\u001b[0m\u001b[1;33m:\u001b[0m\u001b[1;33m\u001b[0m\u001b[1;33m\u001b[0m\u001b[0m\n\u001b[1;32m----> 2\u001b[1;33m     \u001b[0mf\u001b[0m\u001b[1;33m(\u001b[0m\u001b[0mf\u001b[0m\u001b[1;33m)\u001b[0m\u001b[1;33m\u001b[0m\u001b[1;33m\u001b[0m\u001b[0m\n\u001b[0m\u001b[0;32m      3\u001b[0m \u001b[1;33m\u001b[0m\u001b[0m\n\u001b[0;32m      4\u001b[0m \u001b[0mRecusion\u001b[0m\u001b[1;33m(\u001b[0m\u001b[0mRecusion\u001b[0m\u001b[1;33m)\u001b[0m\u001b[1;33m\u001b[0m\u001b[1;33m\u001b[0m\u001b[0m\n",
      "... last 1 frames repeated, from the frame below ...\n",
      "\u001b[1;32m<ipython-input-1-00d266b39dc6>\u001b[0m in \u001b[0;36mRecusion\u001b[1;34m(f)\u001b[0m\n\u001b[0;32m      1\u001b[0m \u001b[1;32mdef\u001b[0m \u001b[0mRecusion\u001b[0m\u001b[1;33m(\u001b[0m\u001b[0mf\u001b[0m\u001b[1;33m)\u001b[0m\u001b[1;33m:\u001b[0m\u001b[1;33m\u001b[0m\u001b[1;33m\u001b[0m\u001b[0m\n\u001b[1;32m----> 2\u001b[1;33m     \u001b[0mf\u001b[0m\u001b[1;33m(\u001b[0m\u001b[0mf\u001b[0m\u001b[1;33m)\u001b[0m\u001b[1;33m\u001b[0m\u001b[1;33m\u001b[0m\u001b[0m\n\u001b[0m\u001b[0;32m      3\u001b[0m \u001b[1;33m\u001b[0m\u001b[0m\n\u001b[0;32m      4\u001b[0m \u001b[0mRecusion\u001b[0m\u001b[1;33m(\u001b[0m\u001b[0mRecusion\u001b[0m\u001b[1;33m)\u001b[0m\u001b[1;33m\u001b[0m\u001b[1;33m\u001b[0m\u001b[0m\n",
      "\u001b[1;31mRecursionError\u001b[0m: maximum recursion depth exceeded"
     ]
    }
   ],
   "source": [
    "def Recusion(f):\n",
    "    f(f)\n",
    "    \n",
    "Recusion(Recusion)"
   ]
  },
  {
   "cell_type": "markdown",
   "metadata": {},
   "source": [
    "#### Da un error de máxima recursión porque está evaluando la función dentro de sí misma y por lo tanto no tiene un punto mínimo en donde termina la recursividad. En este sentido, la operación nunca termina."
   ]
  },
  {
   "cell_type": "code",
   "execution_count": null,
   "metadata": {},
   "outputs": [],
   "source": []
  },
  {
   "cell_type": "markdown",
   "metadata": {},
   "source": [
    "## Ejercicio 2\n",
    "\n",
    "Vea el siguiente vídeo: <https://www.youtube.com/watch?v=qxRW5pDT2o4>  \n",
    "\n",
    "Complete el código siguiente para encontrar el máximo común divisor dado dos números enteros. \n",
    "\n",
    "Las condiciones básicas, son:"
   ]
  },
  {
   "cell_type": "markdown",
   "metadata": {},
   "source": [
    "Para dos números $a$ y $b$, tal que $b\\leq a$:\n",
    "* $mcd(a,0) = a$\n",
    "* Si $b\\vert a$ (divida enteramente), entonces $mcd(a,b)=b$\n",
    "* En otro caso, $mcd(a,b) = mcd(b,a \\,mod \\, b)$\n",
    "\n"
   ]
  },
  {
   "cell_type": "code",
   "execution_count": 135,
   "metadata": {},
   "outputs": [],
   "source": [
    "def mcd(a,b):\n",
    "    '''Donde a >= b'''\n",
    "    if b==0: #Añada la condición faltante:\n",
    "        return a #Añada el procedimiento faltante: esta condición dice que el mcd de un número y cero, es el número\n",
    "    elif a % b==0: #Encuentre la condición: Si el residuo de a//b es cero, b debe ser el mcd\n",
    "        return b\n",
    "    else:\n",
    "        return mcd(b,a%b) #Para cualquier otro caso, se busca el mcd del mismo divisor y al residuo de a//b\n",
    "    "
   ]
  },
  {
   "cell_type": "code",
   "execution_count": 136,
   "metadata": {},
   "outputs": [
    {
     "data": {
      "text/plain": [
       "6"
      ]
     },
     "execution_count": 136,
     "metadata": {},
     "output_type": "execute_result"
    }
   ],
   "source": [
    "mcd(12,6)"
   ]
  },
  {
   "cell_type": "code",
   "execution_count": 137,
   "metadata": {},
   "outputs": [
    {
     "data": {
      "text/plain": [
       "12"
      ]
     },
     "execution_count": 137,
     "metadata": {},
     "output_type": "execute_result"
    }
   ],
   "source": [
    "mcd(24,12)"
   ]
  },
  {
   "cell_type": "code",
   "execution_count": 138,
   "metadata": {},
   "outputs": [
    {
     "data": {
      "text/plain": [
       "4"
      ]
     },
     "execution_count": 138,
     "metadata": {},
     "output_type": "execute_result"
    }
   ],
   "source": [
    "mcd(12,8)"
   ]
  },
  {
   "cell_type": "code",
   "execution_count": 139,
   "metadata": {},
   "outputs": [
    {
     "data": {
      "text/plain": [
       "5"
      ]
     },
     "execution_count": 139,
     "metadata": {},
     "output_type": "execute_result"
    }
   ],
   "source": [
    "mcd(15,5)"
   ]
  },
  {
   "cell_type": "code",
   "execution_count": 140,
   "metadata": {},
   "outputs": [
    {
     "data": {
      "text/plain": [
       "2"
      ]
     },
     "execution_count": 140,
     "metadata": {},
     "output_type": "execute_result"
    }
   ],
   "source": [
    "mcd(2,0)"
   ]
  },
  {
   "cell_type": "markdown",
   "metadata": {},
   "source": [
    "## Ejercicio 3\n",
    "\n",
    "Implemente un algoritmo recursivo para obtener la parte entera de la división entre dos números enteros. (Pista: Asocie con la resta)."
   ]
  },
  {
   "cell_type": "code",
   "execution_count": 112,
   "metadata": {},
   "outputs": [],
   "source": [
    "def div_recur(a,b): #Recursiva porque llama a la función que se está definiendo.\n",
    "    if b==1: ##Si el divisor es 1: me debe devolver el dividendo.\n",
    "        return a\n",
    "    elif a<b: ##Si el divisor es más grande que el dividendo, el entero de la división es cero.\n",
    "        return 0\n",
    "    else:\n",
    "        x=div_recur(a-b,b) #En cualquier otro caso, se hace la división recursiva de la resta\n",
    "                            #Entre el dividendo y divisor y el mismo divisor.\n",
    "        return x+1 #Lo que me debe retornar es la suma de unos hasta que la resta entre a-b da 0."
   ]
  },
  {
   "cell_type": "code",
   "execution_count": 113,
   "metadata": {},
   "outputs": [
    {
     "data": {
      "text/plain": [
       "3"
      ]
     },
     "execution_count": 113,
     "metadata": {},
     "output_type": "execute_result"
    }
   ],
   "source": [
    "div_recur(6,2)"
   ]
  },
  {
   "cell_type": "code",
   "execution_count": 114,
   "metadata": {},
   "outputs": [
    {
     "data": {
      "text/plain": [
       "2"
      ]
     },
     "execution_count": 114,
     "metadata": {},
     "output_type": "execute_result"
    }
   ],
   "source": [
    "div_recur(12,6)"
   ]
  },
  {
   "cell_type": "markdown",
   "metadata": {},
   "source": [
    "# Ejercicio 4\n",
    "\n",
    "En el ejemplo de clase (Coordinate), modifique el método constructor para que verifique que los argumentos $x$ y $y$ sean flotantes.  "
   ]
  },
  {
   "cell_type": "code",
   "execution_count": 33,
   "metadata": {},
   "outputs": [],
   "source": [
    "class Coordinate(object):\n",
    "    #\"\"\" A coordinate made up of an x and y value \"\"\"\n",
    "    def __init__(self, x, y):\n",
    "    #\"\"\" Sets the x and y values \"\"\"\n",
    "        assert type(x) == float and type(y) == float, \"Se deben usar argumentos tipo float\"\n",
    "        #Acá estoy diciendo que debe verificar que x y y sean tipo float y por eso utilizo assert\n",
    "        #Si el assert no se cumple, tira un error y el mensaje dice que se deben usar argumentos de tipo float.\n",
    "        self.x = x\n",
    "        self.y = y\n",
    "    def __str__(self):\n",
    "        return \"Objeto Coordinate <%0.2f, %0.2f>\" % (self.x,self.y)"
   ]
  },
  {
   "cell_type": "code",
   "execution_count": 34,
   "metadata": {},
   "outputs": [
    {
     "name": "stdout",
     "output_type": "stream",
     "text": [
      "Objeto Coordinate <1.10, 1.20>\n"
     ]
    }
   ],
   "source": [
    "uno=Coordinate(1.1,1.2)\n",
    "uno\n",
    "print(uno)"
   ]
  },
  {
   "cell_type": "code",
   "execution_count": 35,
   "metadata": {},
   "outputs": [
    {
     "ename": "AssertionError",
     "evalue": "Se deben usar argumentos tipo float",
     "output_type": "error",
     "traceback": [
      "\u001b[1;31m---------------------------------------------------------------------------\u001b[0m",
      "\u001b[1;31mAssertionError\u001b[0m                            Traceback (most recent call last)",
      "\u001b[1;32m<ipython-input-35-0b8aa4e8be91>\u001b[0m in \u001b[0;36m<module>\u001b[1;34m\u001b[0m\n\u001b[1;32m----> 1\u001b[1;33m \u001b[0mdos\u001b[0m\u001b[1;33m=\u001b[0m\u001b[0mCoordinate\u001b[0m\u001b[1;33m(\u001b[0m\u001b[1;36m1\u001b[0m\u001b[1;33m,\u001b[0m\u001b[1;36m2\u001b[0m\u001b[1;33m)\u001b[0m\u001b[1;33m\u001b[0m\u001b[1;33m\u001b[0m\u001b[0m\n\u001b[0m\u001b[0;32m      2\u001b[0m \u001b[0mdos\u001b[0m\u001b[1;33m\u001b[0m\u001b[1;33m\u001b[0m\u001b[0m\n\u001b[0;32m      3\u001b[0m \u001b[0mprint\u001b[0m\u001b[1;33m(\u001b[0m\u001b[0mdos\u001b[0m\u001b[1;33m)\u001b[0m\u001b[1;33m\u001b[0m\u001b[1;33m\u001b[0m\u001b[0m\n",
      "\u001b[1;32m<ipython-input-33-d86cbee97f7a>\u001b[0m in \u001b[0;36m__init__\u001b[1;34m(self, x, y)\u001b[0m\n\u001b[0;32m      3\u001b[0m     \u001b[1;32mdef\u001b[0m \u001b[0m__init__\u001b[0m\u001b[1;33m(\u001b[0m\u001b[0mself\u001b[0m\u001b[1;33m,\u001b[0m \u001b[0mx\u001b[0m\u001b[1;33m,\u001b[0m \u001b[0my\u001b[0m\u001b[1;33m)\u001b[0m\u001b[1;33m:\u001b[0m\u001b[1;33m\u001b[0m\u001b[1;33m\u001b[0m\u001b[0m\n\u001b[0;32m      4\u001b[0m     \u001b[1;31m#\"\"\" Sets the x and y values \"\"\"\u001b[0m\u001b[1;33m\u001b[0m\u001b[1;33m\u001b[0m\u001b[1;33m\u001b[0m\u001b[0m\n\u001b[1;32m----> 5\u001b[1;33m         \u001b[1;32massert\u001b[0m \u001b[0mtype\u001b[0m\u001b[1;33m(\u001b[0m\u001b[0mx\u001b[0m\u001b[1;33m)\u001b[0m \u001b[1;33m==\u001b[0m \u001b[0mfloat\u001b[0m \u001b[1;32mand\u001b[0m \u001b[0mtype\u001b[0m\u001b[1;33m(\u001b[0m\u001b[0my\u001b[0m\u001b[1;33m)\u001b[0m \u001b[1;33m==\u001b[0m \u001b[0mfloat\u001b[0m\u001b[1;33m,\u001b[0m \u001b[1;34m\"Se deben usar argumentos tipo float\"\u001b[0m\u001b[1;33m\u001b[0m\u001b[1;33m\u001b[0m\u001b[0m\n\u001b[0m\u001b[0;32m      6\u001b[0m         \u001b[0mself\u001b[0m\u001b[1;33m.\u001b[0m\u001b[0mx\u001b[0m \u001b[1;33m=\u001b[0m \u001b[0mx\u001b[0m\u001b[1;33m\u001b[0m\u001b[1;33m\u001b[0m\u001b[0m\n\u001b[0;32m      7\u001b[0m         \u001b[0mself\u001b[0m\u001b[1;33m.\u001b[0m\u001b[0my\u001b[0m \u001b[1;33m=\u001b[0m \u001b[0my\u001b[0m\u001b[1;33m\u001b[0m\u001b[1;33m\u001b[0m\u001b[0m\n",
      "\u001b[1;31mAssertionError\u001b[0m: Se deben usar argumentos tipo float"
     ]
    }
   ],
   "source": [
    "dos=Coordinate(1,2)\n",
    "dos\n",
    "print(dos) #Acá sale un assertion error porque se mete a la coordenada enteros."
   ]
  },
  {
   "cell_type": "markdown",
   "metadata": {},
   "source": [
    "# Ejercicio 5\n",
    "\n",
    "1. Cree una clase llamada ``Persona``, que asigne una cadena a la propiedad ``nombre`` y un número entero a la propiedad ``edad``. Al imprimir el objeto, debe concatenar tanto el nombre con la edad. \n",
    "2. A la clase anterior, añada un método para sumar dos objetos de tipo ``Persona``. El resultado debe ser ambos nombres concatenados y la suma de ambas edades.\n",
    "3. Modifique la clase para que el objeto tenga otra propiedad llamada ``altura``. Cuando se solicite la longitud del objeto, muestre la altura. También debe modificar el método de impresión para que muestre la altura. ¿Qué pasa con el método de suma?\n",
    "\n"
   ]
  },
  {
   "cell_type": "code",
   "execution_count": 203,
   "metadata": {},
   "outputs": [],
   "source": [
    "#INCISO 1\n",
    "class Persona(object):\n",
    "    def __init__(self,nombre,edad): #Método constructor\n",
    "        assert type(nombre) == str and type(edad) == int,\"El nombre debe ser un string y la edad debe ser un entero\"\n",
    "        #Me debo asegurar que nombre sea string\n",
    "        #Me debo asegurar que la edad sea entero.\n",
    "       \n",
    "        self.nombre = nombre #Le doy valores al nombre y edad\n",
    "        self.edad = edad\n",
    "    def __str__(self):\n",
    "        return self.nombre+\", \"+str(self.edad) #Para que cuando le de print me devuelva el nombre y la edad.\n",
    "                                                "
   ]
  },
  {
   "cell_type": "code",
   "execution_count": 204,
   "metadata": {},
   "outputs": [
    {
     "name": "stdout",
     "output_type": "stream",
     "text": [
      "Marianna, 23\n"
     ]
    }
   ],
   "source": [
    "persona1 = Persona(\"Marianna\", 23)\n",
    "print(persona1)"
   ]
  },
  {
   "cell_type": "code",
   "execution_count": 206,
   "metadata": {},
   "outputs": [],
   "source": [
    "#INCISO 2\n",
    "class Persona(object):\n",
    "    def __init__(self,nombre,edad):\n",
    "        assert type(nombre) == str and type(edad) == int, \\\n",
    "        \"El nombre debe ser un string y la edad debe ser un entero\"\n",
    "        self.nombre = nombre\n",
    "        self.edad = edad\n",
    "    def __str__(self):\n",
    "        return self.nombre+\", \"+str(self.edad) \n",
    "    def __add__(self,other):\n",
    "        nombres=self.nombre+\" & \"+other.nombre\n",
    "        edades=str(self.edad+other.edad)\n",
    "        return(nombres,edades)\n",
    "    #Cuando sumo los nombres, agrego los nombres a través de &\n",
    "    #Cuando sumo las edades le hago un string a la suma de las edades para que lo imprima concatenado\n",
    "        "
   ]
  },
  {
   "cell_type": "code",
   "execution_count": 207,
   "metadata": {},
   "outputs": [
    {
     "name": "stdout",
     "output_type": "stream",
     "text": [
      "('Marianna & Adrián', '47')\n"
     ]
    }
   ],
   "source": [
    "persona1=Persona(\"Marianna\", 23)\n",
    "persona2=Persona(\"Adrián\", 24)\n",
    "print(persona1+persona2)"
   ]
  },
  {
   "cell_type": "code",
   "execution_count": 217,
   "metadata": {},
   "outputs": [],
   "source": [
    "#INCISO 3\n",
    "class Persona(object):\n",
    "    def __init__(self,nombre,edad,altura):\n",
    "        assert type(nombre) == str and type(edad) == int and type(altura)==float, \\\n",
    "        \"El nombre debe ser un string, la edad debe ser un entero y la altura debe ser float\"\n",
    "        self.nombre = nombre\n",
    "        self.edad = edad\n",
    "        self.altura=altura #Le agrego la altura al método construcción.\n",
    "    def __str__(self):\n",
    "        return self.nombre+\", \"+str(self.edad)+\" \"+str(self.altura) \n",
    "    #Le agrego string a la altura para que lo imprima concatenado.\n",
    "    def __add__(self,other):\n",
    "        nombres=self.nombre+\" & \"+other.nombre\n",
    "        edades=str(self.edad+other.edad)\n",
    "        alturas=str(self.altura+other.altura)\n",
    "        return (nombres,edades,alturas)\n",
    "    def __len__(self):\n",
    "        return int(self.altura)\n",
    "    #Cuando pida la longitud del objeto devuelve la altura en entero.\n",
    "    "
   ]
  },
  {
   "cell_type": "code",
   "execution_count": 218,
   "metadata": {},
   "outputs": [
    {
     "name": "stdout",
     "output_type": "stream",
     "text": [
      "('Marianna & Adrián', '47', '3.2800000000000002')\n"
     ]
    }
   ],
   "source": [
    "persona1=Persona(\"Marianna\", 23,1.58)\n",
    "persona2=Persona(\"Adrián\", 24,1.70)\n",
    "print(persona1+persona2)"
   ]
  },
  {
   "cell_type": "code",
   "execution_count": 219,
   "metadata": {},
   "outputs": [
    {
     "data": {
      "text/plain": [
       "1"
      ]
     },
     "execution_count": 219,
     "metadata": {},
     "output_type": "execute_result"
    }
   ],
   "source": [
    "len(persona1)"
   ]
  },
  {
   "cell_type": "code",
   "execution_count": 213,
   "metadata": {},
   "outputs": [
    {
     "data": {
      "text/plain": [
       "1"
      ]
     },
     "execution_count": 213,
     "metadata": {},
     "output_type": "execute_result"
    }
   ],
   "source": [
    "len(persona2)"
   ]
  },
  {
   "cell_type": "code",
   "execution_count": 214,
   "metadata": {},
   "outputs": [],
   "source": [
    "#El método suma también me permite sumar las alturas. Sin embargo si no se define esta suma en add:\n",
    "#sigue sumando solo los nombres y la edad."
   ]
  },
  {
   "cell_type": "markdown",
   "metadata": {},
   "source": [
    "# Tarea Rodrigo Chang\n"
   ]
  },
  {
   "cell_type": "markdown",
   "metadata": {},
   "source": [
    "## 1. Canastas"
   ]
  },
  {
   "cell_type": "code",
   "execution_count": 278,
   "metadata": {},
   "outputs": [],
   "source": [
    "class Canasta(object):\n",
    "    def __init__(self,cerveza,ocio,ceviche):\n",
    "        self.cerveza = cerveza\n",
    "        self.ocio = ocio\n",
    "        self.ceviche=ceviche #defino los valores de cada bien de la canasta\n",
    "    \n",
    "    def utilidad(self):\n",
    "        u_self= (self.cerveza**0.3)*(self.ocio**0.6)*(self.ceviche**0.1)\n",
    "        #Defino la función de utilidad\n",
    "        return u_self\n",
    "    \n",
    "    def __eq__(self,other):\n",
    "        U1=Canasta.utilidad(self)\n",
    "        U2=Canasta.utilidad(other)\n",
    "        #Defino las utilidades tanto de self como de other haciendo referencia a la función de utilidad\n",
    "        return \"Las canastas reportan la misma utilidad = %s\" % (U1==U2)\n",
    "        \n",
    "        #cómo saber si una canasta es indiferente a otra\n",
    "        #Devuelve True si self genera la misma utilidad que la canasta other.\n",
    "    def __lt__(self,other):\n",
    "        U1=Canasta.utilidad(self)\n",
    "        U2=Canasta.utilidad(other)\n",
    "        if U1 > U2: #Si la utilidad de self es mayor a la de other la canasta preferida es self\n",
    "            return \"La canasta preferida es = %s\" % self\n",
    "        if U1<U2: #Si la utilidad de other es mayor a la de self la canasta preferida es other\n",
    "            return \"La canasta preferida es = %s\" % other\n",
    "        #cómo saber si una canasta es preferible a otra\n",
    "        #Devuelve True si la canasta self es preferible a other\n",
    "    def __str__(self):\n",
    "        return \"La canasta es (cervezas = %d, ocio = %d, ceviche = %d)\" % (self.cerveza, self.ocio, self.ceviche)"
   ]
  },
  {
   "cell_type": "code",
   "execution_count": 279,
   "metadata": {},
   "outputs": [],
   "source": [
    "canasta1=Canasta(2,3,4)\n",
    "canasta2=Canasta(5,6,7)"
   ]
  },
  {
   "cell_type": "code",
   "execution_count": 280,
   "metadata": {},
   "outputs": [
    {
     "data": {
      "text/plain": [
       "2"
      ]
     },
     "execution_count": 280,
     "metadata": {},
     "output_type": "execute_result"
    }
   ],
   "source": [
    "canasta1.cerveza"
   ]
  },
  {
   "cell_type": "code",
   "execution_count": 281,
   "metadata": {},
   "outputs": [
    {
     "name": "stdout",
     "output_type": "stream",
     "text": [
      "2.733932266478653\n"
     ]
    }
   ],
   "source": [
    "print(Canasta.utilidad(canasta1))"
   ]
  },
  {
   "cell_type": "code",
   "execution_count": 282,
   "metadata": {},
   "outputs": [
    {
     "name": "stdout",
     "output_type": "stream",
     "text": [
      "5.768880668879842\n"
     ]
    }
   ],
   "source": [
    "print(Canasta.utilidad(canasta2))"
   ]
  },
  {
   "cell_type": "code",
   "execution_count": 283,
   "metadata": {},
   "outputs": [
    {
     "data": {
      "text/plain": [
       "'Las canastas reportan la misma utilidad = False'"
      ]
     },
     "execution_count": 283,
     "metadata": {},
     "output_type": "execute_result"
    }
   ],
   "source": [
    "Canasta.__eq__(canasta1,canasta2)"
   ]
  },
  {
   "cell_type": "code",
   "execution_count": 284,
   "metadata": {},
   "outputs": [
    {
     "name": "stdout",
     "output_type": "stream",
     "text": [
      "La canasta preferida es = La canasta es (cervezas = 5, ocio = 6, ceviche = 7)\n"
     ]
    }
   ],
   "source": [
    "print(Canasta.__lt__(canasta1,canasta2))"
   ]
  },
  {
   "cell_type": "markdown",
   "metadata": {},
   "source": [
    "## 2. Mensaje Encriptado"
   ]
  },
  {
   "cell_type": "code",
   "execution_count": 299,
   "metadata": {},
   "outputs": [],
   "source": [
    "class Mensaje(object):\n",
    "    \n",
    "    def __init__(self, msg,rot=3): #rot es rotación\n",
    "        self.msg=msg\n",
    "        self.rot=rot\n",
    "        \n",
    "    def encriptar(self): #Este método devuelve la cadena encriptada con cifrado César con rotación rot\n",
    "        nueva_palabra=\"\"\n",
    "        for i in range(len(self.msg)):\n",
    "            nueva_palabra= nueva_palabra+chr(ord(self.msg[i])+self.rot)\n",
    "        return Mensaje(nueva_palabra)\n",
    "\n",
    "    def __str__(self):\n",
    "        return (\"El mensaje encriptado es: \" + self.msg)\n",
    "        #Imprime el mensaje encriptado"
   ]
  },
  {
   "cell_type": "code",
   "execution_count": 300,
   "metadata": {},
   "outputs": [],
   "source": [
    "mensaje = Mensaje(\"Amo comer nutella\")"
   ]
  },
  {
   "cell_type": "code",
   "execution_count": 301,
   "metadata": {},
   "outputs": [
    {
     "name": "stdout",
     "output_type": "stream",
     "text": [
      "El mensaje encriptado es: Dpr#frphu#qxwhood\n"
     ]
    }
   ],
   "source": [
    "print(mensaje.encriptar())"
   ]
  }
 ],
 "metadata": {
  "kernelspec": {
   "display_name": "Python 3",
   "language": "python",
   "name": "python3"
  },
  "language_info": {
   "codemirror_mode": {
    "name": "ipython",
    "version": 3
   },
   "file_extension": ".py",
   "mimetype": "text/x-python",
   "name": "python",
   "nbconvert_exporter": "python",
   "pygments_lexer": "ipython3",
   "version": "3.7.4"
  }
 },
 "nbformat": 4,
 "nbformat_minor": 2
}
